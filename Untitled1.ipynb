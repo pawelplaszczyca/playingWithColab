{
  "nbformat": 4,
  "nbformat_minor": 0,
  "metadata": {
    "colab": {
      "provenance": [],
      "authorship_tag": "ABX9TyPM2Rvb6KHvacUTaghDqXmx",
      "include_colab_link": true
    },
    "kernelspec": {
      "name": "python3",
      "display_name": "Python 3"
    },
    "language_info": {
      "name": "python"
    }
  },
  "cells": [
    {
      "cell_type": "markdown",
      "metadata": {
        "id": "view-in-github",
        "colab_type": "text"
      },
      "source": [
        "<a href=\"https://colab.research.google.com/github/pawelplaszczyca/playingWithColab/blob/main/Untitled1.ipynb\" target=\"_parent\"><img src=\"https://colab.research.google.com/assets/colab-badge.svg\" alt=\"Open In Colab\"/></a>"
      ]
    },
    {
      "cell_type": "code",
      "execution_count": null,
      "metadata": {
        "id": "FrGATLO4AduZ"
      },
      "outputs": [],
      "source": [
        "# prompt: Connect to Binance api and check current bitcoin price, then check the rolling average and take decision based on the rolling average to sell or not\n",
        "\n",
        "!pip install python-binance\n",
        "\n",
        "import pandas as pd\n",
        "from binance.client import Client\n",
        "import numpy as np\n",
        "\n",
        "# Replace with your actual API key and secret\n",
        "api_key = \"YOUR_API_KEY\"\n",
        "api_secret = \"YOUR_API_SECRET\"\n",
        "\n",
        "client = Client(api_key, api_secret)\n",
        "\n",
        "def get_bitcoin_price():\n",
        "    try:\n",
        "        ticker = client.get_symbol_ticker(symbol=\"BTCUSDT\")\n",
        "        price = float(ticker['price'])\n",
        "        return price\n",
        "    except Exception as e:\n",
        "        print(f\"Error fetching Bitcoin price: {e}\")\n",
        "        return None\n",
        "\n",
        "def calculate_rolling_average(window_size=20):\n",
        "    klines = client.get_historical_klines(\"BTCUSDT\", Client.KLINE_INTERVAL_1HOUR, \"20 hours ago UTC\") # 20 hours lookback\n",
        "    df = pd.DataFrame(klines, columns=['timestamp', 'open', 'high', 'low', 'close', 'volume', 'close_time', 'quote_asset_volume', 'number_of_trades', 'taker_buy_base_asset_volume', 'taker_buy_quote_asset_volume', 'ignore'])\n",
        "    df['close'] = pd.to_numeric(df['close'])\n",
        "    rolling_avg = df['close'].rolling(window=window_size).mean().iloc[-1] #Get only last rolling average\n",
        "    return rolling_avg\n",
        "\n",
        "def make_decision(current_price, rolling_average, threshold_percentage=2):\n",
        "    if current_price >= rolling_average * (1 + threshold_percentage / 100):\n",
        "        print(f\"Bitcoin price ({current_price}) is above the rolling average ({rolling_average}) by more than {threshold_percentage}%. Consider selling.\")\n",
        "        # Implement sell logic here -  Place a sell order\n",
        "    elif current_price <= rolling_average * (1 - threshold_percentage / 100):\n",
        "      print(f\"Bitcoin price ({current_price}) is below the rolling average ({rolling_average}) by more than {threshold_percentage}%. Consider buying.\")\n",
        "    else:\n",
        "        print(f\"Bitcoin price ({current_price}) is within {threshold_percentage}% of the rolling average ({rolling_average}). Hold or wait for further confirmation.\")\n",
        "        # Implement hold or wait logic\n",
        "\n",
        "\n",
        "if __name__ == \"__main__\":\n",
        "    current_price = get_bitcoin_price()\n",
        "\n",
        "    if current_price:\n",
        "        rolling_average = calculate_rolling_average()\n",
        "        if rolling_average is not None: #Check if there was an error calculating rolling_average\n",
        "          make_decision(current_price, rolling_average)\n",
        "        else:\n",
        "          print('Could not calculate rolling average')"
      ]
    }
  ]
}